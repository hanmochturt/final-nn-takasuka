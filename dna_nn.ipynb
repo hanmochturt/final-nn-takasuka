{
 "cells": [
  {
   "cell_type": "code",
   "execution_count": 1,
   "metadata": {},
   "outputs": [],
   "source": [
    "import nn.nn as nn\n",
    "import nn.io as io\n",
    "import nn.preprocess as preprocess\n",
    "from sklearn.model_selection import train_test_split\n",
    "import numpy as np\n",
    "import matplotlib.pyplot as plt"
   ]
  },
  {
   "cell_type": "markdown",
   "metadata": {},
   "source": [
    "I decided to run for 20 epoches because the error stabilized by this point.\n",
    "BCE error was used due to the categorical nature of whether a sequence is positive or negative. MSE is better for continuous data.\n",
    "The learning rate should be sufficiently small to not overshoot the gradient minimum but large enough that a reasonable minimum can be found in a reasonable number of iterations. I decreased the learning rate but still obtained the same final accuracy, so I stopped further decreasing the learning rate."
   ]
  },
  {
   "cell_type": "code",
   "execution_count": 14,
   "metadata": {},
   "outputs": [
    {
     "name": "stdout",
     "output_type": "stream",
     "text": [
      "average reconstruction error over the validation set: 1.6032975901492044\n"
     ]
    },
    {
     "data": {
      "image/png": "[encoded data removed]",
      "text/plain": [
       "<Figure size 432x288 with 1 Axes>"
      ]
     },
     "metadata": {
      "needs_background": "light"
     },
     "output_type": "display_data"
    }
   ],
   "source": [
    "rap_1_seqs = io.read_text_file(\"data/rap1-lieb-positives.txt\")\n",
    "negative_seqs = io.read_fasta_file(\"data/yeast-upstream-1k-negative.fa\")\n",
    "error_name = \"BCE\" #BCE or MSE\n",
    "\n",
    "seqs, labels = preprocess.reformat_pos_neg_seqs(rap_1_seqs, negative_seqs)\n",
    "balanced_seqs, balanced_labels = preprocess.sample_seqs(seqs, labels)\n",
    "balanced_one_hot_seqs = preprocess.one_hot_encode_seqs(balanced_seqs)\n",
    "\n",
    "x_train, x_test, y_train, y_test = train_test_split(np.array(balanced_one_hot_seqs), \\\n",
    "                                                              np.array(balanced_labels))\n",
    "\n",
    "layers = [{'input_dim': 68, 'output_dim': 32, 'activation': 'relu'},\n",
    "          {'input_dim': 32, 'output_dim': 1, 'activation': 'sigmoid'}]\n",
    "\n",
    "n = nn.NeuralNetwork(layers, 0.001, 4, 5, 20, error_name)\n",
    "error_train, error_test = n.fit(x_train, np.reshape(y_train, (-1, 1)), x_test, np.reshape(y_test,\n",
    "                                                                                         (-1, 1)))\n",
    "plt.plot(error_train, label=\"training error\")\n",
    "plt.plot(error_test, label=\"validation error\")\n",
    "plt.title(\"Error over epoch\")\n",
    "plt.xlabel(\"epoch (n)\")\n",
    "plt.ylabel(f\"{error_name} error\")\n",
    "plt.legend()\n",
    "\n",
    "print(f\"average reconstruction error over the validation set: {sum(error_test)/len(error_test)}\")"
   ]
  }
 ],
 "metadata": {
  "kernelspec": {
   "display_name": "Python 3",
   "language": "python",
   "name": "python3"
  },
  "language_info": {
   "codemirror_mode": {
    "name": "ipython",
    "version": 3
   },
   "file_extension": ".py",
   "mimetype": "text/x-python",
   "name": "python",
   "nbconvert_exporter": "python",
   "pygments_lexer": "ipython3",
   "version": "3.7.1"
  }
 },
 "nbformat": 4,
 "nbformat_minor": 2
}
